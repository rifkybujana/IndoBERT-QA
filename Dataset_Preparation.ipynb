{
  "nbformat": 4,
  "nbformat_minor": 0,
  "metadata": {
    "colab": {
      "name": "Dataset_Preparation.ipynb",
      "provenance": [],
      "authorship_tag": "ABX9TyPnE6I0VCAY9X/0y5EmzLOM",
      "include_colab_link": true
    },
    "kernelspec": {
      "name": "python3",
      "display_name": "Python 3"
    },
    "language_info": {
      "name": "python"
    }
  },
  "cells": [
    {
      "cell_type": "markdown",
      "metadata": {
        "id": "view-in-github",
        "colab_type": "text"
      },
      "source": [
        "<a href=\"https://colab.research.google.com/github/rifkybujana/KOPSI/blob/Research%2FModel/Dataset_Preparation.ipynb\" target=\"_parent\"><img src=\"https://colab.research.google.com/assets/colab-badge.svg\" alt=\"Open In Colab\"/></a>"
      ]
    },
    {
      "cell_type": "code",
      "metadata": {
        "colab": {
          "base_uri": "https://localhost:8080/"
        },
        "id": "kSgeplVdeXwb",
        "outputId": "d57724f0-2bd5-4478-933a-028e122f0f2e"
      },
      "source": [
        "!wget \"https://storage.googleapis.com/babert-pretraining/IndoNLU_finals/dataset/preprocessed/dataset_wot_uncased_blanklines.tar.xz\""
      ],
      "execution_count": 1,
      "outputs": [
        {
          "output_type": "stream",
          "text": [
            "--2021-07-05 11:44:06--  https://storage.googleapis.com/babert-pretraining/IndoNLU_finals/dataset/preprocessed/dataset_wot_uncased_blanklines.tar.xz\n",
            "Resolving storage.googleapis.com (storage.googleapis.com)... 142.250.188.208, 142.251.33.208, 142.250.81.208, ...\n",
            "Connecting to storage.googleapis.com (storage.googleapis.com)|142.250.188.208|:443... connected.\n",
            "HTTP request sent, awaiting response... 200 OK\n",
            "Length: 6017328328 (5.6G) [application/x-tar]\n",
            "Saving to: ‘dataset_wot_uncased_blanklines.tar.xz’\n",
            "\n",
            "dataset_wot_uncased 100%[===================>]   5.60G  51.2MB/s    in 1m 58s  \n",
            "\n",
            "2021-07-05 11:46:05 (48.5 MB/s) - ‘dataset_wot_uncased_blanklines.tar.xz’ saved [6017328328/6017328328]\n",
            "\n"
          ],
          "name": "stdout"
        }
      ]
    },
    {
      "cell_type": "code",
      "metadata": {
        "id": "h4LjEphae4vG"
      },
      "source": [
        "!tar -xf dataset_wot_uncased_blanklines.tar.xz"
      ],
      "execution_count": 2,
      "outputs": []
    },
    {
      "cell_type": "code",
      "metadata": {
        "colab": {
          "base_uri": "https://localhost:8080/"
        },
        "id": "hu8lY9xtfg6t",
        "outputId": "6c15271d-b028-451a-f652-326c69c84ecd"
      },
      "source": [
        "with open(\"processed_uncased_blanklines/wiki.txt\", \"r\") as file:\n",
        "    print(file.readline())"
      ],
      "execution_count": 5,
      "outputs": [
        {
          "output_type": "stream",
          "text": [
            "hewan hibrida dalam folklor adalah makhluk dari hewan yang bentuknya berbeda-beda, terdapat dalam cerita rakyat dari berbagai budaya sebagai makhluk legendaris.\n",
            "\n"
          ],
          "name": "stdout"
        }
      ]
    },
    {
      "cell_type": "code",
      "metadata": {
        "colab": {
          "base_uri": "https://localhost:8080/"
        },
        "id": "TKwwpeVyqM-D",
        "outputId": "4149ae89-e847-4745-8aae-9602d5005b5e"
      },
      "source": [
        "!pip install tokenizers"
      ],
      "execution_count": 1,
      "outputs": [
        {
          "output_type": "stream",
          "text": [
            "Requirement already satisfied: tokenizers in /usr/local/lib/python3.7/dist-packages (0.10.3)\n"
          ],
          "name": "stdout"
        }
      ]
    },
    {
      "cell_type": "code",
      "metadata": {
        "id": "ILODQbHEr1Ef"
      },
      "source": [
        "from pathlib import Path\n",
        "from tokenizers import ByteLevelBPETokenizer"
      ],
      "execution_count": 2,
      "outputs": []
    },
    {
      "cell_type": "code",
      "metadata": {
        "id": "0-CdoEEbr4jA"
      },
      "source": [
        "paths = [str(x) for x in Path(\"./processed_uncased_blanklines/\").glob(\"**/*.txt\")]"
      ],
      "execution_count": 3,
      "outputs": []
    },
    {
      "cell_type": "code",
      "metadata": {
        "colab": {
          "base_uri": "https://localhost:8080/"
        },
        "id": "xd9xUeS2zQj_",
        "outputId": "42fa0bfa-f6a0-4128-eba1-abc7a347e155"
      },
      "source": [
        "paths"
      ],
      "execution_count": 4,
      "outputs": [
        {
          "output_type": "execute_result",
          "data": {
            "text/plain": [
              "['processed_uncased_blanklines/jw300.txt',\n",
              " 'processed_uncased_blanklines/frog_storytelling.txt',\n",
              " 'processed_uncased_blanklines/wikipedia_conllu.txt',\n",
              " 'processed_uncased_blanklines/conllu_all_uncased.txt',\n",
              " 'processed_uncased_blanklines/talpco_indonesia.txt',\n",
              " 'processed_uncased_blanklines/parallel_corpus.txt',\n",
              " 'processed_uncased_blanklines/tempo.txt',\n",
              " 'processed_uncased_blanklines/oscar_all_uncased.txt',\n",
              " 'processed_uncased_blanklines/wiki.txt',\n",
              " 'processed_uncased_blanklines/bppt.txt',\n",
              " 'processed_uncased_blanklines/opensubtitles.txt',\n",
              " 'processed_uncased_blanklines/kompas.txt']"
            ]
          },
          "metadata": {
            "tags": []
          },
          "execution_count": 4
        }
      ]
    },
    {
      "cell_type": "code",
      "metadata": {
        "id": "l70t3pDPsCPu"
      },
      "source": [
        "tokenizer = ByteLevelBPETokenizer()"
      ],
      "execution_count": 5,
      "outputs": []
    },
    {
      "cell_type": "code",
      "metadata": {
        "id": "PKXj8vdisO_L"
      },
      "source": [
        "tokenizer.train(files=['processed_uncased_blanklines/bppt.txt'], vocab_size=52_000, min_frequency=2, special_tokens=[\n",
        "    \"<s>\",\n",
        "    \"<pad>\",\n",
        "    \"</s>\",\n",
        "    \"<unk>\",\n",
        "    \"<mask>\",\n",
        "])"
      ],
      "execution_count": 6,
      "outputs": []
    },
    {
      "cell_type": "code",
      "metadata": {
        "colab": {
          "base_uri": "https://localhost:8080/"
        },
        "id": "Ngdz0q34sQ8g",
        "outputId": "7d537165-e927-4c4a-b10c-5e77f42baf5e"
      },
      "source": [
        "tokenizer.save_model(\"./BERT_500k/\", \"BERT_500k\")"
      ],
      "execution_count": 10,
      "outputs": [
        {
          "output_type": "execute_result",
          "data": {
            "text/plain": [
              "['./BERT_500k/BERT_500k-vocab.json', './BERT_500k/BERT_500k-merges.txt']"
            ]
          },
          "metadata": {
            "tags": []
          },
          "execution_count": 10
        }
      ]
    },
    {
      "cell_type": "code",
      "metadata": {
        "colab": {
          "base_uri": "https://localhost:8080/"
        },
        "id": "-tKncopBtr9j",
        "outputId": "f2348078-d20a-460f-b4b2-672c62f796ab"
      },
      "source": [
        "!zip -r BERT_500k.zip BERT_500k"
      ],
      "execution_count": 11,
      "outputs": [
        {
          "output_type": "stream",
          "text": [
            "  adding: BERT_500k/ (stored 0%)\n",
            "  adding: BERT_500k/BERT_500k-merges.txt (deflated 57%)\n",
            "  adding: BERT_500k/BERT_500k-vocab.json (deflated 61%)\n"
          ],
          "name": "stdout"
        }
      ]
    },
    {
      "cell_type": "code",
      "metadata": {
        "id": "9FT0wT8g0DPN"
      },
      "source": [
        ""
      ],
      "execution_count": null,
      "outputs": []
    }
  ]
}