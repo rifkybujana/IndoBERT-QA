{
  "nbformat": 4,
  "nbformat_minor": 0,
  "metadata": {
    "colab": {
      "name": "Tydiqa.ipynb",
      "provenance": [],
      "authorship_tag": "ABX9TyP+ZKslLs6NccfTUAa6kZ/B",
      "include_colab_link": true
    },
    "kernelspec": {
      "name": "python3",
      "display_name": "Python 3"
    },
    "language_info": {
      "name": "python"
    }
  },
  "cells": [
    {
      "cell_type": "markdown",
      "metadata": {
        "id": "view-in-github",
        "colab_type": "text"
      },
      "source": [
        "<a href=\"https://colab.research.google.com/github/rifkybujana/KOPSI/blob/Research%2FModel/Tydiqa_Analyze.ipynb\" target=\"_parent\"><img src=\"https://colab.research.google.com/assets/colab-badge.svg\" alt=\"Open In Colab\"/></a>"
      ]
    },
    {
      "cell_type": "code",
      "metadata": {
        "id": "jVW3Ozsi5EtH"
      },
      "source": [
        "import json\n",
        "import os"
      ],
      "execution_count": null,
      "outputs": []
    },
    {
      "cell_type": "markdown",
      "metadata": {
        "id": "KjUV5Vvg3rpp"
      },
      "source": [
        "## Data Acquisition"
      ]
    },
    {
      "cell_type": "markdown",
      "metadata": {
        "id": "7oI3tz8C31cK"
      },
      "source": [
        "#### Download Dataset"
      ]
    },
    {
      "cell_type": "code",
      "metadata": {
        "colab": {
          "base_uri": "https://localhost:8080/"
        },
        "id": "s_cldXLH3Q7E",
        "outputId": "0e28068c-1b1a-4473-d377-8cd403f97d40"
      },
      "source": [
        "!wget \"https://storage.googleapis.com/tydiqa/v1.1/tydiqa-goldp-v1.1-dev.json\"\n",
        "!wget \"https://storage.googleapis.com/tydiqa/v1.1/tydiqa-goldp-v1.1-train.json\""
      ],
      "execution_count": null,
      "outputs": [
        {
          "output_type": "stream",
          "text": [
            "--2021-07-13 04:41:01--  https://storage.googleapis.com/tydiqa/v1.1/tydiqa-goldp-v1.1-dev.json\n",
            "Resolving storage.googleapis.com (storage.googleapis.com)... 142.250.81.208, 142.251.33.208, 172.217.13.80, ...\n",
            "Connecting to storage.googleapis.com (storage.googleapis.com)|142.250.81.208|:443... connected.\n",
            "HTTP request sent, awaiting response... 200 OK\n",
            "Length: 5617409 (5.4M) [application/json]\n",
            "Saving to: ‘tydiqa-goldp-v1.1-dev.json’\n",
            "\n",
            "tydiqa-goldp-v1.1-d 100%[===================>]   5.36M  --.-KB/s    in 0.09s   \n",
            "\n",
            "2021-07-13 04:41:02 (56.5 MB/s) - ‘tydiqa-goldp-v1.1-dev.json’ saved [5617409/5617409]\n",
            "\n",
            "--2021-07-13 04:41:02--  https://storage.googleapis.com/tydiqa/v1.1/tydiqa-goldp-v1.1-train.json\n",
            "Resolving storage.googleapis.com (storage.googleapis.com)... 142.250.73.240, 142.250.65.80, 142.250.188.208, ...\n",
            "Connecting to storage.googleapis.com (storage.googleapis.com)|142.250.73.240|:443... connected.\n",
            "HTTP request sent, awaiting response... 200 OK\n",
            "Length: 58004076 (55M) [application/json]\n",
            "Saving to: ‘tydiqa-goldp-v1.1-train.json’\n",
            "\n",
            "tydiqa-goldp-v1.1-t 100%[===================>]  55.32M  60.1MB/s    in 0.9s    \n",
            "\n",
            "2021-07-13 04:41:03 (60.1 MB/s) - ‘tydiqa-goldp-v1.1-train.json’ saved [58004076/58004076]\n",
            "\n"
          ],
          "name": "stdout"
        }
      ]
    },
    {
      "cell_type": "markdown",
      "metadata": {
        "id": "rJJDVv-L43Hw"
      },
      "source": [
        "#### Load Dataset"
      ]
    },
    {
      "cell_type": "code",
      "metadata": {
        "id": "fkZBAOAk4P4p"
      },
      "source": [
        "dev_path = \"tydiqa-goldp-v1.1-dev.json\"\n",
        "train_path = \"tydiqa-goldp-v1.1-train.json\""
      ],
      "execution_count": null,
      "outputs": []
    },
    {
      "cell_type": "code",
      "metadata": {
        "id": "aPLLSH065A1r"
      },
      "source": [
        "with open(dev_path) as f:\n",
        "    dev_data = json.load(f)\n",
        "\n",
        "with open(train_path) as f:\n",
        "    train_data = json.load(f)"
      ],
      "execution_count": null,
      "outputs": []
    },
    {
      "cell_type": "markdown",
      "metadata": {
        "id": "miw6oEWSLv5i"
      },
      "source": [
        "#### Take Indonesian Language Data"
      ]
    },
    {
      "cell_type": "code",
      "metadata": {
        "id": "hByc4OfrK-Fi"
      },
      "source": [
        "dev_data_id = []\n",
        "for i in range(len(dev_data[\"data\"])):\n",
        "    if 'indonesia' in dev_data[\"data\"][i]['paragraphs'][0]['qas'][0]['id']:\n",
        "        for paragraph in dev_data[\"data\"][i]['paragraphs']:\n",
        "            dev_data_id.append(paragraph)"
      ],
      "execution_count": null,
      "outputs": []
    },
    {
      "cell_type": "code",
      "metadata": {
        "id": "CfRkAj85LQN6"
      },
      "source": [
        "train_data_id = []\n",
        "for i in range(len(train_data[\"data\"])):\n",
        "    if 'indonesia' in train_data[\"data\"][i]['paragraphs'][0]['qas'][0]['id']:\n",
        "        for paragraph in train_data[\"data\"][i]['paragraphs']:\n",
        "            train_data_id.append(paragraph)"
      ],
      "execution_count": null,
      "outputs": []
    },
    {
      "cell_type": "code",
      "metadata": {
        "colab": {
          "base_uri": "https://localhost:8080/"
        },
        "id": "FQon_uGaLeBh",
        "outputId": "211907fe-00d4-4aca-ee71-222c2a1394e2"
      },
      "source": [
        "len(dev_data_id), len(train_data_id)"
      ],
      "execution_count": null,
      "outputs": [
        {
          "output_type": "execute_result",
          "data": {
            "text/plain": [
              "(565, 5702)"
            ]
          },
          "metadata": {
            "tags": []
          },
          "execution_count": 16
        }
      ]
    },
    {
      "cell_type": "code",
      "metadata": {
        "colab": {
          "base_uri": "https://localhost:8080/"
        },
        "id": "Bh_1ON-1LiIb",
        "outputId": "16f86b0b-9d85-4c12-82c9-91c37bda2a5c"
      },
      "source": [
        "dev_data_id[1]"
      ],
      "execution_count": null,
      "outputs": [
        {
          "output_type": "execute_result",
          "data": {
            "text/plain": [
              "{'context': 'Kabupaten Donggala (English: Donggala Regency), adalah sebuah kabupaten di provinsi Sulawesi Tengah, Indonesia. Ibu kota kabupaten sekaligus pusat administrasi terletak di Kota Donggala. Kabupaten ini mempunyai luas sebesar 4275,08km² dan berpenduduk sebanyak 301.757 jiwa pada tahun 2016. Donggala adalah kabupaten terluas ke-7, terpadat ke-4, dan memiliki populasi terbanyak ke-4 di Sulawesi Tengah. Kabupaten Donggala terdiri dari 16 kecamatan dan 166 desa/kelurahan. Donggala mengelilingi wilayah Kota Palu, dan berbatasan dengan Parigi Moutong di bagian timur, Tolitoli di bagian utara dan timur laut, Sigi di bagian selatan, dan Sulawesi Barat di bagian barat dan barat daya.[lower-alpha 1]',\n",
              " 'qas': [{'answers': [{'answer_start': 75,\n",
              "     'text': 'provinsi Sulawesi Tengah, Indonesia'},\n",
              "    {'answer_start': 84, 'text': 'Sulawesi Tengah, Indonesia'}],\n",
              "   'id': 'indonesian-2929200220081600730-0',\n",
              "   'question': 'Dimanakah letak Donggala ?'}]}"
            ]
          },
          "metadata": {
            "tags": []
          },
          "execution_count": 22
        }
      ]
    },
    {
      "cell_type": "code",
      "metadata": {
        "id": "Bh779qfCLl18"
      },
      "source": [
        "with open('tydiqa-dev-id.json', 'w') as f:\n",
        "    json.dump(dev_data_id, f)\n",
        "\n",
        "with open('tydiqa-train-id.json', 'w') as f:\n",
        "    json.dump(train_data_id, f)"
      ],
      "execution_count": null,
      "outputs": []
    },
    {
      "cell_type": "code",
      "metadata": {
        "id": "FwmN7P3Yjmwe"
      },
      "source": [
        ""
      ],
      "execution_count": null,
      "outputs": []
    }
  ]
}