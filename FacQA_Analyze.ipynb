{
  "nbformat": 4,
  "nbformat_minor": 0,
  "metadata": {
    "colab": {
      "name": "FacQA_Analyze.ipynb",
      "provenance": [],
      "collapsed_sections": [],
      "authorship_tag": "ABX9TyNqofOsoEwKvM3ym99DqmJW",
      "include_colab_link": true
    },
    "kernelspec": {
      "name": "python3",
      "display_name": "Python 3"
    },
    "language_info": {
      "name": "python"
    }
  },
  "cells": [
    {
      "cell_type": "markdown",
      "metadata": {
        "id": "view-in-github",
        "colab_type": "text"
      },
      "source": [
        "<a href=\"https://colab.research.google.com/github/rifkybujana/KOPSI/blob/Research%2FModel/FacQA_Analyze.ipynb\" target=\"_parent\"><img src=\"https://colab.research.google.com/assets/colab-badge.svg\" alt=\"Open In Colab\"/></a>"
      ]
    },
    {
      "cell_type": "markdown",
      "metadata": {
        "id": "0xrT70XzE-Hr"
      },
      "source": [
        "## INSTALLATION"
      ]
    },
    {
      "cell_type": "code",
      "metadata": {
        "id": "ZwnjIrV8E3Up"
      },
      "source": [
        "!pip install tokenizers"
      ],
      "execution_count": null,
      "outputs": []
    },
    {
      "cell_type": "code",
      "metadata": {
        "id": "NuH2BT9TE6-S"
      },
      "source": [
        "!pip install transformers"
      ],
      "execution_count": null,
      "outputs": []
    },
    {
      "cell_type": "markdown",
      "metadata": {
        "id": "mWjNPBCSFCeH"
      },
      "source": [
        "## CODE"
      ]
    },
    {
      "cell_type": "markdown",
      "metadata": {
        "id": "g6Vj5gT5_eG-"
      },
      "source": [
        "Import required libraries"
      ]
    },
    {
      "cell_type": "code",
      "metadata": {
        "id": "auc7qOd4_NIV"
      },
      "source": [
        "import torch\n",
        "import pandas as pd\n",
        "import numpy as np\n",
        "import os\n",
        "import json\n",
        "\n",
        "from ast import literal_eval\n",
        "\n",
        "from transformers import DistilBertTokenizerFast\n",
        "from transformers import DistilBertForQuestionAnswering\n",
        "\n",
        "from transformers import AdamW\n",
        "\n",
        "from torch.utils.data import DataLoader"
      ],
      "execution_count": null,
      "outputs": []
    },
    {
      "cell_type": "markdown",
      "metadata": {
        "id": "Y_ob4KLBID6g"
      },
      "source": [
        "### Analyzing FacQA dataset"
      ]
    },
    {
      "cell_type": "markdown",
      "metadata": {
        "id": "SGNhkEqG_il4"
      },
      "source": [
        "import train and eval dataset"
      ]
    },
    {
      "cell_type": "code",
      "metadata": {
        "id": "Izk6PBhI_HRM"
      },
      "source": [
        "train = pd.read_csv('train_preprocess.csv')\n",
        "valid = pd.read_csv('val_preprocess.csv')"
      ],
      "execution_count": null,
      "outputs": []
    },
    {
      "cell_type": "markdown",
      "metadata": {
        "id": "BsvaSxbC_-3l"
      },
      "source": [
        "analalyze train dataset"
      ]
    },
    {
      "cell_type": "code",
      "metadata": {
        "colab": {
          "base_uri": "https://localhost:8080/"
        },
        "id": "F4x3o1PEAEId",
        "outputId": "1af36577-9e72-4483-9680-5f81ad86da31"
      },
      "source": [
        "train.info()"
      ],
      "execution_count": null,
      "outputs": [
        {
          "output_type": "stream",
          "text": [
            "<class 'pandas.core.frame.DataFrame'>\n",
            "RangeIndex: 2495 entries, 0 to 2494\n",
            "Data columns (total 3 columns):\n",
            " #   Column     Non-Null Count  Dtype \n",
            "---  ------     --------------  ----- \n",
            " 0   question   2495 non-null   object\n",
            " 1   passage    2495 non-null   object\n",
            " 2   seq_label  2495 non-null   object\n",
            "dtypes: object(3)\n",
            "memory usage: 58.6+ KB\n"
          ],
          "name": "stdout"
        }
      ]
    },
    {
      "cell_type": "code",
      "metadata": {
        "colab": {
          "base_uri": "https://localhost:8080/",
          "height": 167
        },
        "id": "ZItQV35WACGM",
        "outputId": "69a5ca2f-f026-4bfb-c648-bcb36d570e16"
      },
      "source": [
        "train.describe()"
      ],
      "execution_count": null,
      "outputs": [
        {
          "output_type": "execute_result",
          "data": {
            "text/html": [
              "<div>\n",
              "<style scoped>\n",
              "    .dataframe tbody tr th:only-of-type {\n",
              "        vertical-align: middle;\n",
              "    }\n",
              "\n",
              "    .dataframe tbody tr th {\n",
              "        vertical-align: top;\n",
              "    }\n",
              "\n",
              "    .dataframe thead th {\n",
              "        text-align: right;\n",
              "    }\n",
              "</style>\n",
              "<table border=\"1\" class=\"dataframe\">\n",
              "  <thead>\n",
              "    <tr style=\"text-align: right;\">\n",
              "      <th></th>\n",
              "      <th>question</th>\n",
              "      <th>passage</th>\n",
              "      <th>seq_label</th>\n",
              "    </tr>\n",
              "  </thead>\n",
              "  <tbody>\n",
              "    <tr>\n",
              "      <th>count</th>\n",
              "      <td>2495</td>\n",
              "      <td>2495</td>\n",
              "      <td>2495</td>\n",
              "    </tr>\n",
              "    <tr>\n",
              "      <th>unique</th>\n",
              "      <td>2412</td>\n",
              "      <td>1216</td>\n",
              "      <td>2077</td>\n",
              "    </tr>\n",
              "    <tr>\n",
              "      <th>top</th>\n",
              "      <td>['Siapa', 'nama', 'presiden', 'Indonesia', 'se...</td>\n",
              "      <td>['Pemilu', 'pertama', 'multikandidat', 'ini', ...</td>\n",
              "      <td>['O', 'O', 'O', 'O', 'O', 'O', 'O', 'O', 'O', ...</td>\n",
              "    </tr>\n",
              "    <tr>\n",
              "      <th>freq</th>\n",
              "      <td>7</td>\n",
              "      <td>17</td>\n",
              "      <td>6</td>\n",
              "    </tr>\n",
              "  </tbody>\n",
              "</table>\n",
              "</div>"
            ],
            "text/plain": [
              "                                                 question  ...                                          seq_label\n",
              "count                                                2495  ...                                               2495\n",
              "unique                                               2412  ...                                               2077\n",
              "top     ['Siapa', 'nama', 'presiden', 'Indonesia', 'se...  ...  ['O', 'O', 'O', 'O', 'O', 'O', 'O', 'O', 'O', ...\n",
              "freq                                                    7  ...                                                  6\n",
              "\n",
              "[4 rows x 3 columns]"
            ]
          },
          "metadata": {
            "tags": []
          },
          "execution_count": 6
        }
      ]
    },
    {
      "cell_type": "code",
      "metadata": {
        "colab": {
          "base_uri": "https://localhost:8080/",
          "height": 197
        },
        "id": "HBnvLso0_24h",
        "outputId": "6e654733-2bf4-4054-f13d-e4eea74d67b3"
      },
      "source": [
        "train.head()"
      ],
      "execution_count": null,
      "outputs": [
        {
          "output_type": "execute_result",
          "data": {
            "text/html": [
              "<div>\n",
              "<style scoped>\n",
              "    .dataframe tbody tr th:only-of-type {\n",
              "        vertical-align: middle;\n",
              "    }\n",
              "\n",
              "    .dataframe tbody tr th {\n",
              "        vertical-align: top;\n",
              "    }\n",
              "\n",
              "    .dataframe thead th {\n",
              "        text-align: right;\n",
              "    }\n",
              "</style>\n",
              "<table border=\"1\" class=\"dataframe\">\n",
              "  <thead>\n",
              "    <tr style=\"text-align: right;\">\n",
              "      <th></th>\n",
              "      <th>question</th>\n",
              "      <th>passage</th>\n",
              "      <th>seq_label</th>\n",
              "    </tr>\n",
              "  </thead>\n",
              "  <tbody>\n",
              "    <tr>\n",
              "      <th>0</th>\n",
              "      <td>['Kelompok', 'apakah', 'yang', 'menyatakan', '...</td>\n",
              "      <td>['Lewat', 'telepon', 'ke', 'kantor', 'berita',...</td>\n",
              "      <td>['O', 'O', 'O', 'O', 'O', 'O', 'O', 'O', 'O', ...</td>\n",
              "    </tr>\n",
              "    <tr>\n",
              "      <th>1</th>\n",
              "      <td>['Di', 'pulau', 'manakah', ',', 'PT', 'Mutiara...</td>\n",
              "      <td>['Sejak', 'tahun', '1980', '-', 'an', 'di', 'K...</td>\n",
              "      <td>['O', 'O', 'O', 'O', 'O', 'O', 'O', 'O', 'O', ...</td>\n",
              "    </tr>\n",
              "    <tr>\n",
              "      <th>2</th>\n",
              "      <td>['Apakah', 'warna', 'pasir', 'pada', 'pesisir'...</td>\n",
              "      <td>['Titik', 'kedua', 'adalah', 'Pantai', 'Baturu...</td>\n",
              "      <td>['O', 'O', 'O', 'O', 'O', 'O', 'O', 'O', 'O', ...</td>\n",
              "    </tr>\n",
              "    <tr>\n",
              "      <th>3</th>\n",
              "      <td>['Apa', 'nama', 'perusahaan', 'China', 'yang',...</td>\n",
              "      <td>['Sichuan', ',', 'Kompas', '-', 'Pemerintah', ...</td>\n",
              "      <td>['O', 'O', 'O', 'O', 'O', 'O', 'O', 'O', 'O', ...</td>\n",
              "    </tr>\n",
              "    <tr>\n",
              "      <th>4</th>\n",
              "      <td>['Siapa', 'yang', 'akan', 'memindahkan', 'Patu...</td>\n",
              "      <td>['Jakarta', ',', 'Kompas', '-', 'Patung', 'Kar...</td>\n",
              "      <td>['O', 'O', 'O', 'O', 'O', 'O', 'O', 'O', 'O', ...</td>\n",
              "    </tr>\n",
              "  </tbody>\n",
              "</table>\n",
              "</div>"
            ],
            "text/plain": [
              "                                            question  ...                                          seq_label\n",
              "0  ['Kelompok', 'apakah', 'yang', 'menyatakan', '...  ...  ['O', 'O', 'O', 'O', 'O', 'O', 'O', 'O', 'O', ...\n",
              "1  ['Di', 'pulau', 'manakah', ',', 'PT', 'Mutiara...  ...  ['O', 'O', 'O', 'O', 'O', 'O', 'O', 'O', 'O', ...\n",
              "2  ['Apakah', 'warna', 'pasir', 'pada', 'pesisir'...  ...  ['O', 'O', 'O', 'O', 'O', 'O', 'O', 'O', 'O', ...\n",
              "3  ['Apa', 'nama', 'perusahaan', 'China', 'yang',...  ...  ['O', 'O', 'O', 'O', 'O', 'O', 'O', 'O', 'O', ...\n",
              "4  ['Siapa', 'yang', 'akan', 'memindahkan', 'Patu...  ...  ['O', 'O', 'O', 'O', 'O', 'O', 'O', 'O', 'O', ...\n",
              "\n",
              "[5 rows x 3 columns]"
            ]
          },
          "metadata": {
            "tags": []
          },
          "execution_count": 7
        }
      ]
    },
    {
      "cell_type": "code",
      "metadata": {
        "colab": {
          "base_uri": "https://localhost:8080/"
        },
        "id": "70_FgKVr_9IM",
        "outputId": "abe32ef5-da61-4432-df26-7c6e821bc2c5"
      },
      "source": [
        "type(train['question'][0])"
      ],
      "execution_count": null,
      "outputs": [
        {
          "output_type": "execute_result",
          "data": {
            "text/plain": [
              "str"
            ]
          },
          "metadata": {
            "tags": []
          },
          "execution_count": 8
        }
      ]
    },
    {
      "cell_type": "markdown",
      "metadata": {
        "id": "LUHbdb3TAuGo"
      },
      "source": [
        "As you can see, the dataset data type are string, but we want them to be a list, not a string, we need to remove all the brackets, quotation marks, and the coma's. separate every word, and convert it into an array using `literal_eval` function"
      ]
    },
    {
      "cell_type": "code",
      "metadata": {
        "id": "b2jGiurPAK4-"
      },
      "source": [
        "train['question'] = train['question'].apply(literal_eval)\n",
        "train['passage'] = train['passage'].apply(literal_eval)\n",
        "train['seq_label'] = train['seq_label'].apply(literal_eval)"
      ],
      "execution_count": null,
      "outputs": []
    },
    {
      "cell_type": "code",
      "metadata": {
        "id": "BTM6cG3uAhb5"
      },
      "source": [
        "valid['question'] = valid['question'].apply(literal_eval)\n",
        "valid['passage'] = valid['passage'].apply(literal_eval)\n",
        "valid['seq_label'] = valid['seq_label'].apply(literal_eval)"
      ],
      "execution_count": null,
      "outputs": []
    },
    {
      "cell_type": "markdown",
      "metadata": {
        "id": "SYMsnWjGBsTo"
      },
      "source": [
        "after applied all the dataset values with the `literal_eval` function, we can see, that the dataset datatype changed into a list"
      ]
    },
    {
      "cell_type": "code",
      "metadata": {
        "colab": {
          "base_uri": "https://localhost:8080/"
        },
        "id": "fumSiGL4BP8l",
        "outputId": "ef272ec4-0390-43f7-a982-445070b844a8"
      },
      "source": [
        "print(f\"\"\"train dataset data type: {type(train['question'][0])}\"\"\")\n",
        "print(f\"\"\"valid dataset data type: {type(valid['question'][0])}\"\"\")"
      ],
      "execution_count": null,
      "outputs": [
        {
          "output_type": "stream",
          "text": [
            "train dataset data type: <class 'list'>\n",
            "valid dataset data type: <class 'list'>\n"
          ],
          "name": "stdout"
        }
      ]
    },
    {
      "cell_type": "markdown",
      "metadata": {
        "id": "isqSxu73AMdZ"
      },
      "source": [
        "But the data in `seq_label` collumn, is still hard to understand, what does it mean, and how the model should read it, so we need to convert it."
      ]
    },
    {
      "cell_type": "code",
      "metadata": {
        "id": "0fz-XMNTD1Bo",
        "colab": {
          "base_uri": "https://localhost:8080/"
        },
        "outputId": "5ce443c8-1739-4f9f-c40e-c7ec8ffa0e66"
      },
      "source": [
        "print(train['seq_label'][0])"
      ],
      "execution_count": null,
      "outputs": [
        {
          "output_type": "stream",
          "text": [
            "['O', 'O', 'O', 'O', 'O', 'O', 'O', 'O', 'O', 'O', 'B', 'I', 'O', 'O', 'O', 'O', 'O', 'O', 'O', 'O', 'O', 'O', 'O', 'O', 'O', 'O', 'O']\n"
          ],
          "name": "stdout"
        }
      ]
    },
    {
      "cell_type": "code",
      "metadata": {
        "id": "WdM7jV1sAhUT"
      },
      "source": [
        "def seq_to_index(seq):\n",
        "    result = []\n",
        "    for i in range(len(seq)):\n",
        "        if seq[i] != 'O':\n",
        "            result.append(i)\n",
        "\n",
        "    result = [result[0], result[-1]]\n",
        "\n",
        "    return result\n",
        "\n",
        "train['seq_label'] = train['seq_label'].apply(seq_to_index)\n",
        "valid['seq_label'] = valid['seq_label'].apply(seq_to_index)"
      ],
      "execution_count": null,
      "outputs": []
    },
    {
      "cell_type": "code",
      "metadata": {
        "colab": {
          "base_uri": "https://localhost:8080/",
          "height": 197
        },
        "id": "rQAfBMHeBBsG",
        "outputId": "b212d16a-7cb9-418c-8360-1d18151e16dc"
      },
      "source": [
        "train.head()"
      ],
      "execution_count": null,
      "outputs": [
        {
          "output_type": "execute_result",
          "data": {
            "text/html": [
              "<div>\n",
              "<style scoped>\n",
              "    .dataframe tbody tr th:only-of-type {\n",
              "        vertical-align: middle;\n",
              "    }\n",
              "\n",
              "    .dataframe tbody tr th {\n",
              "        vertical-align: top;\n",
              "    }\n",
              "\n",
              "    .dataframe thead th {\n",
              "        text-align: right;\n",
              "    }\n",
              "</style>\n",
              "<table border=\"1\" class=\"dataframe\">\n",
              "  <thead>\n",
              "    <tr style=\"text-align: right;\">\n",
              "      <th></th>\n",
              "      <th>question</th>\n",
              "      <th>passage</th>\n",
              "      <th>seq_label</th>\n",
              "    </tr>\n",
              "  </thead>\n",
              "  <tbody>\n",
              "    <tr>\n",
              "      <th>0</th>\n",
              "      <td>[Kelompok, apakah, yang, menyatakan, bertanggu...</td>\n",
              "      <td>[Lewat, telepon, ke, kantor, berita, lokal, Cu...</td>\n",
              "      <td>[10, 11]</td>\n",
              "    </tr>\n",
              "    <tr>\n",
              "      <th>1</th>\n",
              "      <td>[Di, pulau, manakah, ,, PT, Mutiara, Indopearl...</td>\n",
              "      <td>[Sejak, tahun, 1980, -, an, di, Kota, Bau-Bau,...</td>\n",
              "      <td>[30, 31]</td>\n",
              "    </tr>\n",
              "    <tr>\n",
              "      <th>2</th>\n",
              "      <td>[Apakah, warna, pasir, pada, pesisir, pantai, ...</td>\n",
              "      <td>[Titik, kedua, adalah, Pantai, Baturumah, sepa...</td>\n",
              "      <td>[19, 20]</td>\n",
              "    </tr>\n",
              "    <tr>\n",
              "      <th>3</th>\n",
              "      <td>[Apa, nama, perusahaan, China, yang, bekerja, ...</td>\n",
              "      <td>[Sichuan, ,, Kompas, -, Pemerintah, Indonesia,...</td>\n",
              "      <td>[9, 12]</td>\n",
              "    </tr>\n",
              "    <tr>\n",
              "      <th>4</th>\n",
              "      <td>[Siapa, yang, akan, memindahkan, Patung, Karti...</td>\n",
              "      <td>[Jakarta, ,, Kompas, -, Patung, Kartini, di, J...</td>\n",
              "      <td>[18, 20]</td>\n",
              "    </tr>\n",
              "  </tbody>\n",
              "</table>\n",
              "</div>"
            ],
            "text/plain": [
              "                                            question  ... seq_label\n",
              "0  [Kelompok, apakah, yang, menyatakan, bertanggu...  ...  [10, 11]\n",
              "1  [Di, pulau, manakah, ,, PT, Mutiara, Indopearl...  ...  [30, 31]\n",
              "2  [Apakah, warna, pasir, pada, pesisir, pantai, ...  ...  [19, 20]\n",
              "3  [Apa, nama, perusahaan, China, yang, bekerja, ...  ...   [9, 12]\n",
              "4  [Siapa, yang, akan, memindahkan, Patung, Karti...  ...  [18, 20]\n",
              "\n",
              "[5 rows x 3 columns]"
            ]
          },
          "metadata": {
            "tags": []
          },
          "execution_count": 14
        }
      ]
    },
    {
      "cell_type": "code",
      "metadata": {
        "colab": {
          "base_uri": "https://localhost:8080/",
          "height": 197
        },
        "id": "NlE-qsgxBFap",
        "outputId": "2da45d32-c871-4d9f-b668-7ccf7ac2ad24"
      },
      "source": [
        "valid.head()"
      ],
      "execution_count": null,
      "outputs": [
        {
          "output_type": "execute_result",
          "data": {
            "text/html": [
              "<div>\n",
              "<style scoped>\n",
              "    .dataframe tbody tr th:only-of-type {\n",
              "        vertical-align: middle;\n",
              "    }\n",
              "\n",
              "    .dataframe tbody tr th {\n",
              "        vertical-align: top;\n",
              "    }\n",
              "\n",
              "    .dataframe thead th {\n",
              "        text-align: right;\n",
              "    }\n",
              "</style>\n",
              "<table border=\"1\" class=\"dataframe\">\n",
              "  <thead>\n",
              "    <tr style=\"text-align: right;\">\n",
              "      <th></th>\n",
              "      <th>question</th>\n",
              "      <th>passage</th>\n",
              "      <th>seq_label</th>\n",
              "    </tr>\n",
              "  </thead>\n",
              "  <tbody>\n",
              "    <tr>\n",
              "      <th>0</th>\n",
              "      <td>[Apa, nama, latin, dari, harimau, Sumatera, ?]</td>\n",
              "      <td>[Selain, orangutan, ,, satwa, yang, berada, TN...</td>\n",
              "      <td>[14, 16]</td>\n",
              "    </tr>\n",
              "    <tr>\n",
              "      <th>1</th>\n",
              "      <td>[Berapa, penumpang, yang, turut, dalam, penerb...</td>\n",
              "      <td>[Pesawat, dengan, nomor, penerbangan, GA, -, 1...</td>\n",
              "      <td>[9, 10]</td>\n",
              "    </tr>\n",
              "    <tr>\n",
              "      <th>2</th>\n",
              "      <td>[Kepala, Badan, apakah, Mohamed, ElBaradei, ?]</td>\n",
              "      <td>[Pernyataan, tersebut, disampaikan, Larijani, ...</td>\n",
              "      <td>[14, 20]</td>\n",
              "    </tr>\n",
              "    <tr>\n",
              "      <th>3</th>\n",
              "      <td>[Berapa, kalikah, Lin, Dan, gagal, memainkan, ...</td>\n",
              "      <td>[Tak, seperti, yang, diharapkan, ,, partai, im...</td>\n",
              "      <td>[33, 34]</td>\n",
              "    </tr>\n",
              "    <tr>\n",
              "      <th>4</th>\n",
              "      <td>[Apakah, nama, fakultas, tempat, Drh, Yuda, He...</td>\n",
              "      <td>[Yogyakarta, ,, Kompas, -, Drh, Yuda, Heru, Fi...</td>\n",
              "      <td>[11, 13]</td>\n",
              "    </tr>\n",
              "  </tbody>\n",
              "</table>\n",
              "</div>"
            ],
            "text/plain": [
              "                                            question  ... seq_label\n",
              "0     [Apa, nama, latin, dari, harimau, Sumatera, ?]  ...  [14, 16]\n",
              "1  [Berapa, penumpang, yang, turut, dalam, penerb...  ...   [9, 10]\n",
              "2     [Kepala, Badan, apakah, Mohamed, ElBaradei, ?]  ...  [14, 20]\n",
              "3  [Berapa, kalikah, Lin, Dan, gagal, memainkan, ...  ...  [33, 34]\n",
              "4  [Apakah, nama, fakultas, tempat, Drh, Yuda, He...  ...  [11, 13]\n",
              "\n",
              "[5 rows x 3 columns]"
            ]
          },
          "metadata": {
            "tags": []
          },
          "execution_count": 15
        }
      ]
    },
    {
      "cell_type": "code",
      "metadata": {
        "id": "6yig5yUeBuVg"
      },
      "source": [
        "train.rename(columns = {'seq_label':'answer_index'}, inplace = True)\n",
        "valid.rename(columns = {'seq_label':'answer_index'}, inplace = True)"
      ],
      "execution_count": null,
      "outputs": []
    },
    {
      "cell_type": "code",
      "metadata": {
        "id": "9U-mE58lEW8a"
      },
      "source": [
        "train.rename(columns = {'passage':'context'}, inplace = True)\n",
        "valid.rename(columns = {'passage':'context'}, inplace = True)"
      ],
      "execution_count": null,
      "outputs": []
    },
    {
      "cell_type": "code",
      "metadata": {
        "colab": {
          "base_uri": "https://localhost:8080/"
        },
        "id": "tK-SQFSiCN06",
        "outputId": "74d539fc-c607-4a30-a4d1-e040558c7335"
      },
      "source": [
        "print(train.columns)\n",
        "print(valid.columns)"
      ],
      "execution_count": null,
      "outputs": [
        {
          "output_type": "stream",
          "text": [
            "Index(['question', 'context', 'answer_index'], dtype='object')\n",
            "Index(['question', 'context', 'answer_index'], dtype='object')\n"
          ],
          "name": "stdout"
        }
      ]
    },
    {
      "cell_type": "code",
      "metadata": {
        "id": "WmQQLZBPCR0f"
      },
      "source": [
        "def index_to_answer(context, index):\n",
        "    result = []\n",
        "    for i in range(index[0], index[1] + 1):\n",
        "        result.append(context[i])\n",
        "\n",
        "    result = ' '.join(result)\n",
        "\n",
        "    return result"
      ],
      "execution_count": null,
      "outputs": []
    },
    {
      "cell_type": "code",
      "metadata": {
        "id": "dAuBSc4LG68a"
      },
      "source": [
        "def convert_index(context, index):\n",
        "    result = []\n",
        "    for i in range(len(context)):\n",
        "        result.append(index_to_answer(context[i], index[i]))\n",
        "\n",
        "    return result"
      ],
      "execution_count": null,
      "outputs": []
    },
    {
      "cell_type": "code",
      "metadata": {
        "id": "EFZUShTUJCJx"
      },
      "source": [
        "train_answer = convert_index(train['context'], train['answer_index'])\n",
        "valid_answer = convert_index(valid['context'], valid['answer_index'])"
      ],
      "execution_count": null,
      "outputs": []
    },
    {
      "cell_type": "code",
      "metadata": {
        "id": "UxxxJW-sJNza"
      },
      "source": [
        "train['answer'] = train_answer\n",
        "valid['answer'] = valid_answer"
      ],
      "execution_count": null,
      "outputs": []
    },
    {
      "cell_type": "code",
      "metadata": {
        "colab": {
          "base_uri": "https://localhost:8080/",
          "height": 197
        },
        "id": "QabgnHLWJpBn",
        "outputId": "78c1c580-e1cc-4f0a-fb11-0be0ac69f5b2"
      },
      "source": [
        "train.head()"
      ],
      "execution_count": null,
      "outputs": [
        {
          "output_type": "execute_result",
          "data": {
            "text/html": [
              "<div>\n",
              "<style scoped>\n",
              "    .dataframe tbody tr th:only-of-type {\n",
              "        vertical-align: middle;\n",
              "    }\n",
              "\n",
              "    .dataframe tbody tr th {\n",
              "        vertical-align: top;\n",
              "    }\n",
              "\n",
              "    .dataframe thead th {\n",
              "        text-align: right;\n",
              "    }\n",
              "</style>\n",
              "<table border=\"1\" class=\"dataframe\">\n",
              "  <thead>\n",
              "    <tr style=\"text-align: right;\">\n",
              "      <th></th>\n",
              "      <th>question</th>\n",
              "      <th>context</th>\n",
              "      <th>answer_index</th>\n",
              "      <th>answer</th>\n",
              "    </tr>\n",
              "  </thead>\n",
              "  <tbody>\n",
              "    <tr>\n",
              "      <th>0</th>\n",
              "      <td>[Kelompok, apakah, yang, menyatakan, bertanggu...</td>\n",
              "      <td>[Lewat, telepon, ke, kantor, berita, lokal, Cu...</td>\n",
              "      <td>[10, 11]</td>\n",
              "      <td>Hezb-ul Mujahedeen</td>\n",
              "    </tr>\n",
              "    <tr>\n",
              "      <th>1</th>\n",
              "      <td>[Di, pulau, manakah, ,, PT, Mutiara, Indopearl...</td>\n",
              "      <td>[Sejak, tahun, 1980, -, an, di, Kota, Bau-Bau,...</td>\n",
              "      <td>[30, 31]</td>\n",
              "      <td>Pulau Makassar</td>\n",
              "    </tr>\n",
              "    <tr>\n",
              "      <th>2</th>\n",
              "      <td>[Apakah, warna, pasir, pada, pesisir, pantai, ...</td>\n",
              "      <td>[Titik, kedua, adalah, Pantai, Baturumah, sepa...</td>\n",
              "      <td>[19, 20]</td>\n",
              "      <td>putih halus</td>\n",
              "    </tr>\n",
              "    <tr>\n",
              "      <th>3</th>\n",
              "      <td>[Apa, nama, perusahaan, China, yang, bekerja, ...</td>\n",
              "      <td>[Sichuan, ,, Kompas, -, Pemerintah, Indonesia,...</td>\n",
              "      <td>[9, 12]</td>\n",
              "      <td>Sinopec Southwest Petroleum Biro</td>\n",
              "    </tr>\n",
              "    <tr>\n",
              "      <th>4</th>\n",
              "      <td>[Siapa, yang, akan, memindahkan, Patung, Karti...</td>\n",
              "      <td>[Jakarta, ,, Kompas, -, Patung, Kartini, di, J...</td>\n",
              "      <td>[18, 20]</td>\n",
              "      <td>Pemerintah DKI Jakarta</td>\n",
              "    </tr>\n",
              "  </tbody>\n",
              "</table>\n",
              "</div>"
            ],
            "text/plain": [
              "                                            question  ...                            answer\n",
              "0  [Kelompok, apakah, yang, menyatakan, bertanggu...  ...                Hezb-ul Mujahedeen\n",
              "1  [Di, pulau, manakah, ,, PT, Mutiara, Indopearl...  ...                    Pulau Makassar\n",
              "2  [Apakah, warna, pasir, pada, pesisir, pantai, ...  ...                       putih halus\n",
              "3  [Apa, nama, perusahaan, China, yang, bekerja, ...  ...  Sinopec Southwest Petroleum Biro\n",
              "4  [Siapa, yang, akan, memindahkan, Patung, Karti...  ...            Pemerintah DKI Jakarta\n",
              "\n",
              "[5 rows x 4 columns]"
            ]
          },
          "metadata": {
            "tags": []
          },
          "execution_count": 23
        }
      ]
    },
    {
      "cell_type": "code",
      "metadata": {
        "colab": {
          "base_uri": "https://localhost:8080/",
          "height": 197
        },
        "id": "ZtKNNDG0JqDT",
        "outputId": "69f5fadb-cab3-4409-e4e9-c5f8a0aba917"
      },
      "source": [
        "valid.head()"
      ],
      "execution_count": null,
      "outputs": [
        {
          "output_type": "execute_result",
          "data": {
            "text/html": [
              "<div>\n",
              "<style scoped>\n",
              "    .dataframe tbody tr th:only-of-type {\n",
              "        vertical-align: middle;\n",
              "    }\n",
              "\n",
              "    .dataframe tbody tr th {\n",
              "        vertical-align: top;\n",
              "    }\n",
              "\n",
              "    .dataframe thead th {\n",
              "        text-align: right;\n",
              "    }\n",
              "</style>\n",
              "<table border=\"1\" class=\"dataframe\">\n",
              "  <thead>\n",
              "    <tr style=\"text-align: right;\">\n",
              "      <th></th>\n",
              "      <th>question</th>\n",
              "      <th>context</th>\n",
              "      <th>answer_index</th>\n",
              "      <th>answer</th>\n",
              "    </tr>\n",
              "  </thead>\n",
              "  <tbody>\n",
              "    <tr>\n",
              "      <th>0</th>\n",
              "      <td>[Apa, nama, latin, dari, harimau, Sumatera, ?]</td>\n",
              "      <td>[Selain, orangutan, ,, satwa, yang, berada, TN...</td>\n",
              "      <td>[14, 16]</td>\n",
              "      <td>Panthera tigris sumatrensis</td>\n",
              "    </tr>\n",
              "    <tr>\n",
              "      <th>1</th>\n",
              "      <td>[Berapa, penumpang, yang, turut, dalam, penerb...</td>\n",
              "      <td>[Pesawat, dengan, nomor, penerbangan, GA, -, 1...</td>\n",
              "      <td>[9, 10]</td>\n",
              "      <td>84 penumpang</td>\n",
              "    </tr>\n",
              "    <tr>\n",
              "      <th>2</th>\n",
              "      <td>[Kepala, Badan, apakah, Mohamed, ElBaradei, ?]</td>\n",
              "      <td>[Pernyataan, tersebut, disampaikan, Larijani, ...</td>\n",
              "      <td>[14, 20]</td>\n",
              "      <td>Badan Tenaga Atom Internasional ( IAEA )</td>\n",
              "    </tr>\n",
              "    <tr>\n",
              "      <th>3</th>\n",
              "      <td>[Berapa, kalikah, Lin, Dan, gagal, memainkan, ...</td>\n",
              "      <td>[Tak, seperti, yang, diharapkan, ,, partai, im...</td>\n",
              "      <td>[33, 34]</td>\n",
              "      <td>15 kali</td>\n",
              "    </tr>\n",
              "    <tr>\n",
              "      <th>4</th>\n",
              "      <td>[Apakah, nama, fakultas, tempat, Drh, Yuda, He...</td>\n",
              "      <td>[Yogyakarta, ,, Kompas, -, Drh, Yuda, Heru, Fi...</td>\n",
              "      <td>[11, 13]</td>\n",
              "      <td>Fakultas Kedokteran Hewan</td>\n",
              "    </tr>\n",
              "  </tbody>\n",
              "</table>\n",
              "</div>"
            ],
            "text/plain": [
              "                                            question  ...                                    answer\n",
              "0     [Apa, nama, latin, dari, harimau, Sumatera, ?]  ...               Panthera tigris sumatrensis\n",
              "1  [Berapa, penumpang, yang, turut, dalam, penerb...  ...                              84 penumpang\n",
              "2     [Kepala, Badan, apakah, Mohamed, ElBaradei, ?]  ...  Badan Tenaga Atom Internasional ( IAEA )\n",
              "3  [Berapa, kalikah, Lin, Dan, gagal, memainkan, ...  ...                                   15 kali\n",
              "4  [Apakah, nama, fakultas, tempat, Drh, Yuda, He...  ...                 Fakultas Kedokteran Hewan\n",
              "\n",
              "[5 rows x 4 columns]"
            ]
          },
          "metadata": {
            "tags": []
          },
          "execution_count": 24
        }
      ]
    },
    {
      "cell_type": "code",
      "metadata": {
        "id": "HqzTL_J0JsnL"
      },
      "source": [
        "train['question'] = train['question'].apply(np.array)\n",
        "train['context'] = train['context'].apply(np.array)\n",
        "train['answer_index'] = train['answer_index'].apply(np.array)"
      ],
      "execution_count": null,
      "outputs": []
    },
    {
      "cell_type": "code",
      "metadata": {
        "id": "7DpzOX7fL1tW"
      },
      "source": [
        "valid['question'] = valid['question'].apply(np.array)\n",
        "valid['context'] = valid['context'].apply(np.array)\n",
        "valid['answer_index'] = valid['answer_index'].apply(np.array)"
      ],
      "execution_count": null,
      "outputs": []
    },
    {
      "cell_type": "code",
      "metadata": {
        "colab": {
          "base_uri": "https://localhost:8080/"
        },
        "id": "L5S8gCUZM1nn",
        "outputId": "474187c4-87f2-4812-fc37-a811be367bf0"
      },
      "source": [
        "len(train), len(valid)"
      ],
      "execution_count": null,
      "outputs": [
        {
          "output_type": "execute_result",
          "data": {
            "text/plain": [
              "(2495, 311)"
            ]
          },
          "metadata": {
            "tags": []
          },
          "execution_count": 27
        }
      ]
    },
    {
      "cell_type": "markdown",
      "metadata": {
        "id": "3wC6ZIqERcQS"
      },
      "source": [
        "convert dataset into json"
      ]
    },
    {
      "cell_type": "code",
      "metadata": {
        "id": "JnhwIX2jMaIG"
      },
      "source": [
        "def to_json(data):\n",
        "    return [{\n",
        "        'context': ' '.join(data['context'][i]),\n",
        "        'qas': [{\n",
        "            'answers': [{\n",
        "                'answer_start': data['answer_index'][i][0].item(),\n",
        "                'text': data['answer'][i]\n",
        "            }],\n",
        "            'id': f'FacQA-{i}',\n",
        "            'question': ' '.join(data['question'][i])\n",
        "        }]\n",
        "    } for i in range(len(data))]"
      ],
      "execution_count": null,
      "outputs": []
    },
    {
      "cell_type": "code",
      "metadata": {
        "id": "GlZg9O3VRTc2"
      },
      "source": [
        "train_json = to_json(train)"
      ],
      "execution_count": null,
      "outputs": []
    },
    {
      "cell_type": "code",
      "metadata": {
        "id": "BAXP8XnDRmI8"
      },
      "source": [
        "valid_json = to_json(valid)"
      ],
      "execution_count": null,
      "outputs": []
    },
    {
      "cell_type": "code",
      "metadata": {
        "id": "jGiiArvCW-_b"
      },
      "source": [
        "with open('train_json.json', 'w') as f:\n",
        "    json.dump(train_json, f)\n",
        "\n",
        "with open('valid_json.json', 'w') as f:\n",
        "    json.dump(valid_json, f)"
      ],
      "execution_count": null,
      "outputs": []
    },
    {
      "cell_type": "code",
      "metadata": {
        "id": "7iPcKkZJXOhu"
      },
      "source": [
        ""
      ],
      "execution_count": null,
      "outputs": []
    }
  ]
}