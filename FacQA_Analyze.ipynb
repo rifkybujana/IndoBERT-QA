{
  "nbformat": 4,
  "nbformat_minor": 0,
  "metadata": {
    "colab": {
      "name": "DistilBERT.ipynb",
      "provenance": [],
      "authorship_tag": "ABX9TyNohaeEqki+a7GquxGOGPFM",
      "include_colab_link": true
    },
    "kernelspec": {
      "name": "python3",
      "display_name": "Python 3"
    },
    "language_info": {
      "name": "python"
    }
  },
  "cells": [
    {
      "cell_type": "markdown",
      "metadata": {
        "id": "view-in-github",
        "colab_type": "text"
      },
      "source": [
        "<a href=\"https://colab.research.google.com/github/rifkybujana/KOPSI/blob/Research%2FModel/FacQA_Analyze.ipynb\" target=\"_parent\"><img src=\"https://colab.research.google.com/assets/colab-badge.svg\" alt=\"Open In Colab\"/></a>"
      ]
    },
    {
      "cell_type": "markdown",
      "metadata": {
        "id": "0xrT70XzE-Hr"
      },
      "source": [
        "## INSTALLATION"
      ]
    },
    {
      "cell_type": "code",
      "metadata": {
        "colab": {
          "base_uri": "https://localhost:8080/"
        },
        "id": "ZwnjIrV8E3Up",
        "outputId": "c27bbacf-3e12-48ee-f5ae-4c5d403bddc0"
      },
      "source": [
        "!pip install tokenizers"
      ],
      "execution_count": 1,
      "outputs": [
        {
          "output_type": "stream",
          "text": [
            "Collecting tokenizers\n",
            "\u001b[?25l  Downloading https://files.pythonhosted.org/packages/d4/e2/df3543e8ffdab68f5acc73f613de9c2b155ac47f162e725dcac87c521c11/tokenizers-0.10.3-cp37-cp37m-manylinux_2_5_x86_64.manylinux1_x86_64.manylinux_2_12_x86_64.manylinux2010_x86_64.whl (3.3MB)\n",
            "\u001b[K     |████████████████████████████████| 3.3MB 4.0MB/s \n",
            "\u001b[?25hInstalling collected packages: tokenizers\n",
            "Successfully installed tokenizers-0.10.3\n"
          ],
          "name": "stdout"
        }
      ]
    },
    {
      "cell_type": "code",
      "metadata": {
        "colab": {
          "base_uri": "https://localhost:8080/"
        },
        "id": "NuH2BT9TE6-S",
        "outputId": "2a83933a-56e2-4984-8d78-fed6e0a88bf2"
      },
      "source": [
        "!pip install transformers"
      ],
      "execution_count": 2,
      "outputs": [
        {
          "output_type": "stream",
          "text": [
            "Collecting transformers\n",
            "\u001b[?25l  Downloading https://files.pythonhosted.org/packages/fd/1a/41c644c963249fd7f3836d926afa1e3f1cc234a1c40d80c5f03ad8f6f1b2/transformers-4.8.2-py3-none-any.whl (2.5MB)\n",
            "\u001b[K     |████████████████████████████████| 2.5MB 2.9MB/s \n",
            "\u001b[?25hRequirement already satisfied: importlib-metadata; python_version < \"3.8\" in /usr/local/lib/python3.7/dist-packages (from transformers) (4.5.0)\n",
            "Requirement already satisfied: pyyaml in /usr/local/lib/python3.7/dist-packages (from transformers) (3.13)\n",
            "Requirement already satisfied: regex!=2019.12.17 in /usr/local/lib/python3.7/dist-packages (from transformers) (2019.12.20)\n",
            "Requirement already satisfied: filelock in /usr/local/lib/python3.7/dist-packages (from transformers) (3.0.12)\n",
            "Requirement already satisfied: tqdm>=4.27 in /usr/local/lib/python3.7/dist-packages (from transformers) (4.41.1)\n",
            "Requirement already satisfied: packaging in /usr/local/lib/python3.7/dist-packages (from transformers) (20.9)\n",
            "Requirement already satisfied: requests in /usr/local/lib/python3.7/dist-packages (from transformers) (2.23.0)\n",
            "Requirement already satisfied: numpy>=1.17 in /usr/local/lib/python3.7/dist-packages (from transformers) (1.19.5)\n",
            "Collecting sacremoses\n",
            "\u001b[?25l  Downloading https://files.pythonhosted.org/packages/75/ee/67241dc87f266093c533a2d4d3d69438e57d7a90abb216fa076e7d475d4a/sacremoses-0.0.45-py3-none-any.whl (895kB)\n",
            "\u001b[K     |████████████████████████████████| 901kB 13.9MB/s \n",
            "\u001b[?25hRequirement already satisfied: tokenizers<0.11,>=0.10.1 in /usr/local/lib/python3.7/dist-packages (from transformers) (0.10.3)\n",
            "Collecting huggingface-hub==0.0.12\n",
            "  Downloading https://files.pythonhosted.org/packages/2f/ee/97e253668fda9b17e968b3f97b2f8e53aa0127e8807d24a547687423fe0b/huggingface_hub-0.0.12-py3-none-any.whl\n",
            "Requirement already satisfied: typing-extensions>=3.6.4; python_version < \"3.8\" in /usr/local/lib/python3.7/dist-packages (from importlib-metadata; python_version < \"3.8\"->transformers) (3.7.4.3)\n",
            "Requirement already satisfied: zipp>=0.5 in /usr/local/lib/python3.7/dist-packages (from importlib-metadata; python_version < \"3.8\"->transformers) (3.4.1)\n",
            "Requirement already satisfied: pyparsing>=2.0.2 in /usr/local/lib/python3.7/dist-packages (from packaging->transformers) (2.4.7)\n",
            "Requirement already satisfied: idna<3,>=2.5 in /usr/local/lib/python3.7/dist-packages (from requests->transformers) (2.10)\n",
            "Requirement already satisfied: urllib3!=1.25.0,!=1.25.1,<1.26,>=1.21.1 in /usr/local/lib/python3.7/dist-packages (from requests->transformers) (1.24.3)\n",
            "Requirement already satisfied: certifi>=2017.4.17 in /usr/local/lib/python3.7/dist-packages (from requests->transformers) (2021.5.30)\n",
            "Requirement already satisfied: chardet<4,>=3.0.2 in /usr/local/lib/python3.7/dist-packages (from requests->transformers) (3.0.4)\n",
            "Requirement already satisfied: six in /usr/local/lib/python3.7/dist-packages (from sacremoses->transformers) (1.15.0)\n",
            "Requirement already satisfied: click in /usr/local/lib/python3.7/dist-packages (from sacremoses->transformers) (7.1.2)\n",
            "Requirement already satisfied: joblib in /usr/local/lib/python3.7/dist-packages (from sacremoses->transformers) (1.0.1)\n",
            "Installing collected packages: sacremoses, huggingface-hub, transformers\n",
            "Successfully installed huggingface-hub-0.0.12 sacremoses-0.0.45 transformers-4.8.2\n"
          ],
          "name": "stdout"
        }
      ]
    },
    {
      "cell_type": "markdown",
      "metadata": {
        "id": "mWjNPBCSFCeH"
      },
      "source": [
        "## CODE"
      ]
    },
    {
      "cell_type": "markdown",
      "metadata": {
        "id": "g6Vj5gT5_eG-"
      },
      "source": [
        "Import required libraries"
      ]
    },
    {
      "cell_type": "code",
      "metadata": {
        "id": "auc7qOd4_NIV"
      },
      "source": [
        "import torch\n",
        "import pandas as pd\n",
        "import numpy as np\n",
        "\n",
        "from ast import literal_eval\n",
        "\n",
        "from transformers import DistilBertTokenizerFast\n",
        "from transformers import DistilBertForQuestionAnswering\n",
        "\n",
        "from transformers import AdamW\n",
        "\n",
        "from torch.utils.data import DataLoader"
      ],
      "execution_count": 3,
      "outputs": []
    },
    {
      "cell_type": "markdown",
      "metadata": {
        "id": "Y_ob4KLBID6g"
      },
      "source": [
        "### Analyzing FacQA dataset"
      ]
    },
    {
      "cell_type": "markdown",
      "metadata": {
        "id": "SGNhkEqG_il4"
      },
      "source": [
        "import train and eval dataset"
      ]
    },
    {
      "cell_type": "code",
      "metadata": {
        "id": "Izk6PBhI_HRM"
      },
      "source": [
        "train = pd.read_csv('train_preprocess.csv')\n",
        "valid = pd.read_csv('val_preprocess.csv')"
      ],
      "execution_count": 4,
      "outputs": []
    },
    {
      "cell_type": "markdown",
      "metadata": {
        "id": "BsvaSxbC_-3l"
      },
      "source": [
        "analalyze train dataset"
      ]
    },
    {
      "cell_type": "code",
      "metadata": {
        "colab": {
          "base_uri": "https://localhost:8080/"
        },
        "id": "F4x3o1PEAEId",
        "outputId": "e9620dfe-2ba6-4f27-8a57-c1e11d08aeb1"
      },
      "source": [
        "train.info()"
      ],
      "execution_count": 5,
      "outputs": [
        {
          "output_type": "stream",
          "text": [
            "<class 'pandas.core.frame.DataFrame'>\n",
            "RangeIndex: 2495 entries, 0 to 2494\n",
            "Data columns (total 3 columns):\n",
            " #   Column     Non-Null Count  Dtype \n",
            "---  ------     --------------  ----- \n",
            " 0   question   2495 non-null   object\n",
            " 1   passage    2495 non-null   object\n",
            " 2   seq_label  2495 non-null   object\n",
            "dtypes: object(3)\n",
            "memory usage: 58.6+ KB\n"
          ],
          "name": "stdout"
        }
      ]
    },
    {
      "cell_type": "code",
      "metadata": {
        "colab": {
          "base_uri": "https://localhost:8080/",
          "height": 167
        },
        "id": "ZItQV35WACGM",
        "outputId": "ae7aa5ce-7790-4f57-bcde-2444e5ea5f3b"
      },
      "source": [
        "train.describe()"
      ],
      "execution_count": 6,
      "outputs": [
        {
          "output_type": "execute_result",
          "data": {
            "text/html": [
              "<div>\n",
              "<style scoped>\n",
              "    .dataframe tbody tr th:only-of-type {\n",
              "        vertical-align: middle;\n",
              "    }\n",
              "\n",
              "    .dataframe tbody tr th {\n",
              "        vertical-align: top;\n",
              "    }\n",
              "\n",
              "    .dataframe thead th {\n",
              "        text-align: right;\n",
              "    }\n",
              "</style>\n",
              "<table border=\"1\" class=\"dataframe\">\n",
              "  <thead>\n",
              "    <tr style=\"text-align: right;\">\n",
              "      <th></th>\n",
              "      <th>question</th>\n",
              "      <th>passage</th>\n",
              "      <th>seq_label</th>\n",
              "    </tr>\n",
              "  </thead>\n",
              "  <tbody>\n",
              "    <tr>\n",
              "      <th>count</th>\n",
              "      <td>2495</td>\n",
              "      <td>2495</td>\n",
              "      <td>2495</td>\n",
              "    </tr>\n",
              "    <tr>\n",
              "      <th>unique</th>\n",
              "      <td>2412</td>\n",
              "      <td>1216</td>\n",
              "      <td>2077</td>\n",
              "    </tr>\n",
              "    <tr>\n",
              "      <th>top</th>\n",
              "      <td>['Siapa', 'nama', 'presiden', 'Indonesia', 'se...</td>\n",
              "      <td>['Pemilu', 'pertama', 'multikandidat', 'ini', ...</td>\n",
              "      <td>['O', 'O', 'O', 'O', 'O', 'O', 'O', 'O', 'O', ...</td>\n",
              "    </tr>\n",
              "    <tr>\n",
              "      <th>freq</th>\n",
              "      <td>7</td>\n",
              "      <td>17</td>\n",
              "      <td>6</td>\n",
              "    </tr>\n",
              "  </tbody>\n",
              "</table>\n",
              "</div>"
            ],
            "text/plain": [
              "                                                 question  ...                                          seq_label\n",
              "count                                                2495  ...                                               2495\n",
              "unique                                               2412  ...                                               2077\n",
              "top     ['Siapa', 'nama', 'presiden', 'Indonesia', 'se...  ...  ['O', 'O', 'O', 'O', 'O', 'O', 'O', 'O', 'O', ...\n",
              "freq                                                    7  ...                                                  6\n",
              "\n",
              "[4 rows x 3 columns]"
            ]
          },
          "metadata": {
            "tags": []
          },
          "execution_count": 6
        }
      ]
    },
    {
      "cell_type": "code",
      "metadata": {
        "colab": {
          "base_uri": "https://localhost:8080/",
          "height": 197
        },
        "id": "HBnvLso0_24h",
        "outputId": "2cc2f680-edd1-4fee-c3d8-182da747e1c8"
      },
      "source": [
        "train.head()"
      ],
      "execution_count": 7,
      "outputs": [
        {
          "output_type": "execute_result",
          "data": {
            "text/html": [
              "<div>\n",
              "<style scoped>\n",
              "    .dataframe tbody tr th:only-of-type {\n",
              "        vertical-align: middle;\n",
              "    }\n",
              "\n",
              "    .dataframe tbody tr th {\n",
              "        vertical-align: top;\n",
              "    }\n",
              "\n",
              "    .dataframe thead th {\n",
              "        text-align: right;\n",
              "    }\n",
              "</style>\n",
              "<table border=\"1\" class=\"dataframe\">\n",
              "  <thead>\n",
              "    <tr style=\"text-align: right;\">\n",
              "      <th></th>\n",
              "      <th>question</th>\n",
              "      <th>passage</th>\n",
              "      <th>seq_label</th>\n",
              "    </tr>\n",
              "  </thead>\n",
              "  <tbody>\n",
              "    <tr>\n",
              "      <th>0</th>\n",
              "      <td>['Kelompok', 'apakah', 'yang', 'menyatakan', '...</td>\n",
              "      <td>['Lewat', 'telepon', 'ke', 'kantor', 'berita',...</td>\n",
              "      <td>['O', 'O', 'O', 'O', 'O', 'O', 'O', 'O', 'O', ...</td>\n",
              "    </tr>\n",
              "    <tr>\n",
              "      <th>1</th>\n",
              "      <td>['Di', 'pulau', 'manakah', ',', 'PT', 'Mutiara...</td>\n",
              "      <td>['Sejak', 'tahun', '1980', '-', 'an', 'di', 'K...</td>\n",
              "      <td>['O', 'O', 'O', 'O', 'O', 'O', 'O', 'O', 'O', ...</td>\n",
              "    </tr>\n",
              "    <tr>\n",
              "      <th>2</th>\n",
              "      <td>['Apakah', 'warna', 'pasir', 'pada', 'pesisir'...</td>\n",
              "      <td>['Titik', 'kedua', 'adalah', 'Pantai', 'Baturu...</td>\n",
              "      <td>['O', 'O', 'O', 'O', 'O', 'O', 'O', 'O', 'O', ...</td>\n",
              "    </tr>\n",
              "    <tr>\n",
              "      <th>3</th>\n",
              "      <td>['Apa', 'nama', 'perusahaan', 'China', 'yang',...</td>\n",
              "      <td>['Sichuan', ',', 'Kompas', '-', 'Pemerintah', ...</td>\n",
              "      <td>['O', 'O', 'O', 'O', 'O', 'O', 'O', 'O', 'O', ...</td>\n",
              "    </tr>\n",
              "    <tr>\n",
              "      <th>4</th>\n",
              "      <td>['Siapa', 'yang', 'akan', 'memindahkan', 'Patu...</td>\n",
              "      <td>['Jakarta', ',', 'Kompas', '-', 'Patung', 'Kar...</td>\n",
              "      <td>['O', 'O', 'O', 'O', 'O', 'O', 'O', 'O', 'O', ...</td>\n",
              "    </tr>\n",
              "  </tbody>\n",
              "</table>\n",
              "</div>"
            ],
            "text/plain": [
              "                                            question  ...                                          seq_label\n",
              "0  ['Kelompok', 'apakah', 'yang', 'menyatakan', '...  ...  ['O', 'O', 'O', 'O', 'O', 'O', 'O', 'O', 'O', ...\n",
              "1  ['Di', 'pulau', 'manakah', ',', 'PT', 'Mutiara...  ...  ['O', 'O', 'O', 'O', 'O', 'O', 'O', 'O', 'O', ...\n",
              "2  ['Apakah', 'warna', 'pasir', 'pada', 'pesisir'...  ...  ['O', 'O', 'O', 'O', 'O', 'O', 'O', 'O', 'O', ...\n",
              "3  ['Apa', 'nama', 'perusahaan', 'China', 'yang',...  ...  ['O', 'O', 'O', 'O', 'O', 'O', 'O', 'O', 'O', ...\n",
              "4  ['Siapa', 'yang', 'akan', 'memindahkan', 'Patu...  ...  ['O', 'O', 'O', 'O', 'O', 'O', 'O', 'O', 'O', ...\n",
              "\n",
              "[5 rows x 3 columns]"
            ]
          },
          "metadata": {
            "tags": []
          },
          "execution_count": 7
        }
      ]
    },
    {
      "cell_type": "code",
      "metadata": {
        "colab": {
          "base_uri": "https://localhost:8080/"
        },
        "id": "70_FgKVr_9IM",
        "outputId": "42a1ab66-7aa3-4ab5-ec9a-b7239c1e622c"
      },
      "source": [
        "type(train['question'][0])"
      ],
      "execution_count": 8,
      "outputs": [
        {
          "output_type": "execute_result",
          "data": {
            "text/plain": [
              "str"
            ]
          },
          "metadata": {
            "tags": []
          },
          "execution_count": 8
        }
      ]
    },
    {
      "cell_type": "markdown",
      "metadata": {
        "id": "LUHbdb3TAuGo"
      },
      "source": [
        "As you can see, the dataset data type are string, but we want them to be a list, not a string, we need to remove all the brackets, quotation marks, and the coma's. separate every word, and convert it into an array using `literal_eval` function"
      ]
    },
    {
      "cell_type": "code",
      "metadata": {
        "id": "b2jGiurPAK4-"
      },
      "source": [
        "train['question'] = train['question'].apply(literal_eval)\n",
        "train['passage'] = train['passage'].apply(literal_eval)\n",
        "train['seq_label'] = train['seq_label'].apply(literal_eval)"
      ],
      "execution_count": 9,
      "outputs": []
    },
    {
      "cell_type": "code",
      "metadata": {
        "id": "BTM6cG3uAhb5"
      },
      "source": [
        "valid['question'] = valid['question'].apply(literal_eval)\n",
        "valid['passage'] = valid['passage'].apply(literal_eval)\n",
        "valid['seq_label'] = valid['seq_label'].apply(literal_eval)"
      ],
      "execution_count": 10,
      "outputs": []
    },
    {
      "cell_type": "markdown",
      "metadata": {
        "id": "SYMsnWjGBsTo"
      },
      "source": [
        "after applied all the dataset values with the `literal_eval` function, we can see, that the dataset datatype changed into a list"
      ]
    },
    {
      "cell_type": "code",
      "metadata": {
        "colab": {
          "base_uri": "https://localhost:8080/"
        },
        "id": "fumSiGL4BP8l",
        "outputId": "4680b203-af74-48db-c64e-bcb02668154d"
      },
      "source": [
        "print(f\"\"\"train dataset data type: {type(train['question'][0])}\"\"\")\n",
        "print(f\"\"\"valid dataset data type: {type(valid['question'][0])}\"\"\")"
      ],
      "execution_count": 11,
      "outputs": [
        {
          "output_type": "stream",
          "text": [
            "train dataset data type: <class 'list'>\n",
            "valid dataset data type: <class 'list'>\n"
          ],
          "name": "stdout"
        }
      ]
    },
    {
      "cell_type": "markdown",
      "metadata": {
        "id": "isqSxu73AMdZ"
      },
      "source": [
        "But the data in `seq_label` collumn, is still hard to understand, what does it mean, and how the model should read it, so we need to convert it."
      ]
    },
    {
      "cell_type": "code",
      "metadata": {
        "id": "0fz-XMNTD1Bo",
        "colab": {
          "base_uri": "https://localhost:8080/"
        },
        "outputId": "a9f048c5-b751-40d6-98f8-1fc8d3d06b17"
      },
      "source": [
        "print(train['seq_label'][0])"
      ],
      "execution_count": 13,
      "outputs": [
        {
          "output_type": "stream",
          "text": [
            "['O', 'O', 'O', 'O', 'O', 'O', 'O', 'O', 'O', 'O', 'B', 'I', 'O', 'O', 'O', 'O', 'O', 'O', 'O', 'O', 'O', 'O', 'O', 'O', 'O', 'O', 'O']\n"
          ],
          "name": "stdout"
        }
      ]
    },
    {
      "cell_type": "code",
      "metadata": {
        "id": "WdM7jV1sAhUT"
      },
      "source": [
        "def seq_to_index(seq):\n",
        "    result = []\n",
        "    for i in range(len(seq)):\n",
        "        if seq[i] != 'O':\n",
        "            result.append(i)\n",
        "\n",
        "    result = [result[0], result[-1]]\n",
        "\n",
        "    return result\n",
        "\n",
        "train['seq_label'] = train['seq_label'].apply(seq_to_index)\n",
        "valid['seq_label'] = valid['seq_label'].apply(seq_to_index)"
      ],
      "execution_count": 14,
      "outputs": []
    },
    {
      "cell_type": "code",
      "metadata": {
        "colab": {
          "base_uri": "https://localhost:8080/",
          "height": 197
        },
        "id": "rQAfBMHeBBsG",
        "outputId": "5e121ff2-22f8-46d5-d5d0-bfe2727e607f"
      },
      "source": [
        "train.head()"
      ],
      "execution_count": 17,
      "outputs": [
        {
          "output_type": "execute_result",
          "data": {
            "text/html": [
              "<div>\n",
              "<style scoped>\n",
              "    .dataframe tbody tr th:only-of-type {\n",
              "        vertical-align: middle;\n",
              "    }\n",
              "\n",
              "    .dataframe tbody tr th {\n",
              "        vertical-align: top;\n",
              "    }\n",
              "\n",
              "    .dataframe thead th {\n",
              "        text-align: right;\n",
              "    }\n",
              "</style>\n",
              "<table border=\"1\" class=\"dataframe\">\n",
              "  <thead>\n",
              "    <tr style=\"text-align: right;\">\n",
              "      <th></th>\n",
              "      <th>question</th>\n",
              "      <th>passage</th>\n",
              "      <th>seq_label</th>\n",
              "    </tr>\n",
              "  </thead>\n",
              "  <tbody>\n",
              "    <tr>\n",
              "      <th>0</th>\n",
              "      <td>[Kelompok, apakah, yang, menyatakan, bertanggu...</td>\n",
              "      <td>[Lewat, telepon, ke, kantor, berita, lokal, Cu...</td>\n",
              "      <td>[10, 11]</td>\n",
              "    </tr>\n",
              "    <tr>\n",
              "      <th>1</th>\n",
              "      <td>[Di, pulau, manakah, ,, PT, Mutiara, Indopearl...</td>\n",
              "      <td>[Sejak, tahun, 1980, -, an, di, Kota, Bau-Bau,...</td>\n",
              "      <td>[30, 31]</td>\n",
              "    </tr>\n",
              "    <tr>\n",
              "      <th>2</th>\n",
              "      <td>[Apakah, warna, pasir, pada, pesisir, pantai, ...</td>\n",
              "      <td>[Titik, kedua, adalah, Pantai, Baturumah, sepa...</td>\n",
              "      <td>[19, 20]</td>\n",
              "    </tr>\n",
              "    <tr>\n",
              "      <th>3</th>\n",
              "      <td>[Apa, nama, perusahaan, China, yang, bekerja, ...</td>\n",
              "      <td>[Sichuan, ,, Kompas, -, Pemerintah, Indonesia,...</td>\n",
              "      <td>[9, 12]</td>\n",
              "    </tr>\n",
              "    <tr>\n",
              "      <th>4</th>\n",
              "      <td>[Siapa, yang, akan, memindahkan, Patung, Karti...</td>\n",
              "      <td>[Jakarta, ,, Kompas, -, Patung, Kartini, di, J...</td>\n",
              "      <td>[18, 20]</td>\n",
              "    </tr>\n",
              "  </tbody>\n",
              "</table>\n",
              "</div>"
            ],
            "text/plain": [
              "                                            question  ... seq_label\n",
              "0  [Kelompok, apakah, yang, menyatakan, bertanggu...  ...  [10, 11]\n",
              "1  [Di, pulau, manakah, ,, PT, Mutiara, Indopearl...  ...  [30, 31]\n",
              "2  [Apakah, warna, pasir, pada, pesisir, pantai, ...  ...  [19, 20]\n",
              "3  [Apa, nama, perusahaan, China, yang, bekerja, ...  ...   [9, 12]\n",
              "4  [Siapa, yang, akan, memindahkan, Patung, Karti...  ...  [18, 20]\n",
              "\n",
              "[5 rows x 3 columns]"
            ]
          },
          "metadata": {
            "tags": []
          },
          "execution_count": 17
        }
      ]
    },
    {
      "cell_type": "code",
      "metadata": {
        "colab": {
          "base_uri": "https://localhost:8080/",
          "height": 197
        },
        "id": "NlE-qsgxBFap",
        "outputId": "61d67fa7-0ebf-4614-dddb-f9382f629bfc"
      },
      "source": [
        "valid.head()"
      ],
      "execution_count": 18,
      "outputs": [
        {
          "output_type": "execute_result",
          "data": {
            "text/html": [
              "<div>\n",
              "<style scoped>\n",
              "    .dataframe tbody tr th:only-of-type {\n",
              "        vertical-align: middle;\n",
              "    }\n",
              "\n",
              "    .dataframe tbody tr th {\n",
              "        vertical-align: top;\n",
              "    }\n",
              "\n",
              "    .dataframe thead th {\n",
              "        text-align: right;\n",
              "    }\n",
              "</style>\n",
              "<table border=\"1\" class=\"dataframe\">\n",
              "  <thead>\n",
              "    <tr style=\"text-align: right;\">\n",
              "      <th></th>\n",
              "      <th>question</th>\n",
              "      <th>passage</th>\n",
              "      <th>seq_label</th>\n",
              "    </tr>\n",
              "  </thead>\n",
              "  <tbody>\n",
              "    <tr>\n",
              "      <th>0</th>\n",
              "      <td>[Apa, nama, latin, dari, harimau, Sumatera, ?]</td>\n",
              "      <td>[Selain, orangutan, ,, satwa, yang, berada, TN...</td>\n",
              "      <td>[14, 16]</td>\n",
              "    </tr>\n",
              "    <tr>\n",
              "      <th>1</th>\n",
              "      <td>[Berapa, penumpang, yang, turut, dalam, penerb...</td>\n",
              "      <td>[Pesawat, dengan, nomor, penerbangan, GA, -, 1...</td>\n",
              "      <td>[9, 10]</td>\n",
              "    </tr>\n",
              "    <tr>\n",
              "      <th>2</th>\n",
              "      <td>[Kepala, Badan, apakah, Mohamed, ElBaradei, ?]</td>\n",
              "      <td>[Pernyataan, tersebut, disampaikan, Larijani, ...</td>\n",
              "      <td>[14, 20]</td>\n",
              "    </tr>\n",
              "    <tr>\n",
              "      <th>3</th>\n",
              "      <td>[Berapa, kalikah, Lin, Dan, gagal, memainkan, ...</td>\n",
              "      <td>[Tak, seperti, yang, diharapkan, ,, partai, im...</td>\n",
              "      <td>[33, 34]</td>\n",
              "    </tr>\n",
              "    <tr>\n",
              "      <th>4</th>\n",
              "      <td>[Apakah, nama, fakultas, tempat, Drh, Yuda, He...</td>\n",
              "      <td>[Yogyakarta, ,, Kompas, -, Drh, Yuda, Heru, Fi...</td>\n",
              "      <td>[11, 13]</td>\n",
              "    </tr>\n",
              "  </tbody>\n",
              "</table>\n",
              "</div>"
            ],
            "text/plain": [
              "                                            question  ... seq_label\n",
              "0     [Apa, nama, latin, dari, harimau, Sumatera, ?]  ...  [14, 16]\n",
              "1  [Berapa, penumpang, yang, turut, dalam, penerb...  ...   [9, 10]\n",
              "2     [Kepala, Badan, apakah, Mohamed, ElBaradei, ?]  ...  [14, 20]\n",
              "3  [Berapa, kalikah, Lin, Dan, gagal, memainkan, ...  ...  [33, 34]\n",
              "4  [Apakah, nama, fakultas, tempat, Drh, Yuda, He...  ...  [11, 13]\n",
              "\n",
              "[5 rows x 3 columns]"
            ]
          },
          "metadata": {
            "tags": []
          },
          "execution_count": 18
        }
      ]
    },
    {
      "cell_type": "code",
      "metadata": {
        "id": "6yig5yUeBuVg"
      },
      "source": [
        "train.rename(columns = {'seq_label':'answer_index'}, inplace = True)\n",
        "valid.rename(columns = {'seq_label':'answer_index'}, inplace = True)"
      ],
      "execution_count": 19,
      "outputs": []
    },
    {
      "cell_type": "code",
      "metadata": {
        "id": "9U-mE58lEW8a"
      },
      "source": [
        "train.rename(columns = {'passage':'context'}, inplace = True)\n",
        "valid.rename(columns = {'passage':'context'}, inplace = True)"
      ],
      "execution_count": 21,
      "outputs": []
    },
    {
      "cell_type": "code",
      "metadata": {
        "colab": {
          "base_uri": "https://localhost:8080/"
        },
        "id": "tK-SQFSiCN06",
        "outputId": "50a59a41-0564-4add-e627-a26619fe6cf5"
      },
      "source": [
        "print(train.columns)\n",
        "print(valid.columns)"
      ],
      "execution_count": 22,
      "outputs": [
        {
          "output_type": "stream",
          "text": [
            "Index(['question', 'context', 'answer_index'], dtype='object')\n",
            "Index(['question', 'context', 'answer_index'], dtype='object')\n"
          ],
          "name": "stdout"
        }
      ]
    },
    {
      "cell_type": "code",
      "metadata": {
        "id": "WmQQLZBPCR0f"
      },
      "source": [
        "def index_to_answer(context, index):\n",
        "    result = []\n",
        "    for i in range(index[0], index[1] + 1):\n",
        "        result.append(context[i])\n",
        "\n",
        "    result = ' '.join(result)\n",
        "\n",
        "    return result"
      ],
      "execution_count": 23,
      "outputs": []
    },
    {
      "cell_type": "code",
      "metadata": {
        "id": "dAuBSc4LG68a"
      },
      "source": [
        "def convert_index(context, index):\n",
        "    result = []\n",
        "    for i in range(len(context)):\n",
        "        result.append(index_to_answer(context[i], index[i]))\n",
        "\n",
        "    return result"
      ],
      "execution_count": 27,
      "outputs": []
    },
    {
      "cell_type": "code",
      "metadata": {
        "id": "EFZUShTUJCJx"
      },
      "source": [
        "train_answer = convert_index(train['context'], train['answer_index'])\n",
        "valid_answer = convert_index(valid['context'], valid['answer_index'])"
      ],
      "execution_count": 29,
      "outputs": []
    },
    {
      "cell_type": "code",
      "metadata": {
        "id": "UxxxJW-sJNza"
      },
      "source": [
        "train['answer'] = train_answer\n",
        "valid['answer'] = valid_answer"
      ],
      "execution_count": 30,
      "outputs": []
    },
    {
      "cell_type": "code",
      "metadata": {
        "colab": {
          "base_uri": "https://localhost:8080/",
          "height": 197
        },
        "id": "QabgnHLWJpBn",
        "outputId": "7a7f2fd7-b5bb-499b-df26-d1ad767aa587"
      },
      "source": [
        "train.head()"
      ],
      "execution_count": 31,
      "outputs": [
        {
          "output_type": "execute_result",
          "data": {
            "text/html": [
              "<div>\n",
              "<style scoped>\n",
              "    .dataframe tbody tr th:only-of-type {\n",
              "        vertical-align: middle;\n",
              "    }\n",
              "\n",
              "    .dataframe tbody tr th {\n",
              "        vertical-align: top;\n",
              "    }\n",
              "\n",
              "    .dataframe thead th {\n",
              "        text-align: right;\n",
              "    }\n",
              "</style>\n",
              "<table border=\"1\" class=\"dataframe\">\n",
              "  <thead>\n",
              "    <tr style=\"text-align: right;\">\n",
              "      <th></th>\n",
              "      <th>question</th>\n",
              "      <th>context</th>\n",
              "      <th>answer_index</th>\n",
              "      <th>answer</th>\n",
              "    </tr>\n",
              "  </thead>\n",
              "  <tbody>\n",
              "    <tr>\n",
              "      <th>0</th>\n",
              "      <td>[Kelompok, apakah, yang, menyatakan, bertanggu...</td>\n",
              "      <td>[Lewat, telepon, ke, kantor, berita, lokal, Cu...</td>\n",
              "      <td>[10, 11]</td>\n",
              "      <td>Hezb-ul Mujahedeen</td>\n",
              "    </tr>\n",
              "    <tr>\n",
              "      <th>1</th>\n",
              "      <td>[Di, pulau, manakah, ,, PT, Mutiara, Indopearl...</td>\n",
              "      <td>[Sejak, tahun, 1980, -, an, di, Kota, Bau-Bau,...</td>\n",
              "      <td>[30, 31]</td>\n",
              "      <td>Pulau Makassar</td>\n",
              "    </tr>\n",
              "    <tr>\n",
              "      <th>2</th>\n",
              "      <td>[Apakah, warna, pasir, pada, pesisir, pantai, ...</td>\n",
              "      <td>[Titik, kedua, adalah, Pantai, Baturumah, sepa...</td>\n",
              "      <td>[19, 20]</td>\n",
              "      <td>putih halus</td>\n",
              "    </tr>\n",
              "    <tr>\n",
              "      <th>3</th>\n",
              "      <td>[Apa, nama, perusahaan, China, yang, bekerja, ...</td>\n",
              "      <td>[Sichuan, ,, Kompas, -, Pemerintah, Indonesia,...</td>\n",
              "      <td>[9, 12]</td>\n",
              "      <td>Sinopec Southwest Petroleum Biro</td>\n",
              "    </tr>\n",
              "    <tr>\n",
              "      <th>4</th>\n",
              "      <td>[Siapa, yang, akan, memindahkan, Patung, Karti...</td>\n",
              "      <td>[Jakarta, ,, Kompas, -, Patung, Kartini, di, J...</td>\n",
              "      <td>[18, 20]</td>\n",
              "      <td>Pemerintah DKI Jakarta</td>\n",
              "    </tr>\n",
              "  </tbody>\n",
              "</table>\n",
              "</div>"
            ],
            "text/plain": [
              "                                            question  ...                            answer\n",
              "0  [Kelompok, apakah, yang, menyatakan, bertanggu...  ...                Hezb-ul Mujahedeen\n",
              "1  [Di, pulau, manakah, ,, PT, Mutiara, Indopearl...  ...                    Pulau Makassar\n",
              "2  [Apakah, warna, pasir, pada, pesisir, pantai, ...  ...                       putih halus\n",
              "3  [Apa, nama, perusahaan, China, yang, bekerja, ...  ...  Sinopec Southwest Petroleum Biro\n",
              "4  [Siapa, yang, akan, memindahkan, Patung, Karti...  ...            Pemerintah DKI Jakarta\n",
              "\n",
              "[5 rows x 4 columns]"
            ]
          },
          "metadata": {
            "tags": []
          },
          "execution_count": 31
        }
      ]
    },
    {
      "cell_type": "code",
      "metadata": {
        "colab": {
          "base_uri": "https://localhost:8080/",
          "height": 197
        },
        "id": "ZtKNNDG0JqDT",
        "outputId": "b5a9f7a2-9942-43d4-f48e-51ca67dd79e7"
      },
      "source": [
        "valid.head()"
      ],
      "execution_count": 32,
      "outputs": [
        {
          "output_type": "execute_result",
          "data": {
            "text/html": [
              "<div>\n",
              "<style scoped>\n",
              "    .dataframe tbody tr th:only-of-type {\n",
              "        vertical-align: middle;\n",
              "    }\n",
              "\n",
              "    .dataframe tbody tr th {\n",
              "        vertical-align: top;\n",
              "    }\n",
              "\n",
              "    .dataframe thead th {\n",
              "        text-align: right;\n",
              "    }\n",
              "</style>\n",
              "<table border=\"1\" class=\"dataframe\">\n",
              "  <thead>\n",
              "    <tr style=\"text-align: right;\">\n",
              "      <th></th>\n",
              "      <th>question</th>\n",
              "      <th>context</th>\n",
              "      <th>answer_index</th>\n",
              "      <th>answer</th>\n",
              "    </tr>\n",
              "  </thead>\n",
              "  <tbody>\n",
              "    <tr>\n",
              "      <th>0</th>\n",
              "      <td>[Apa, nama, latin, dari, harimau, Sumatera, ?]</td>\n",
              "      <td>[Selain, orangutan, ,, satwa, yang, berada, TN...</td>\n",
              "      <td>[14, 16]</td>\n",
              "      <td>Panthera tigris sumatrensis</td>\n",
              "    </tr>\n",
              "    <tr>\n",
              "      <th>1</th>\n",
              "      <td>[Berapa, penumpang, yang, turut, dalam, penerb...</td>\n",
              "      <td>[Pesawat, dengan, nomor, penerbangan, GA, -, 1...</td>\n",
              "      <td>[9, 10]</td>\n",
              "      <td>84 penumpang</td>\n",
              "    </tr>\n",
              "    <tr>\n",
              "      <th>2</th>\n",
              "      <td>[Kepala, Badan, apakah, Mohamed, ElBaradei, ?]</td>\n",
              "      <td>[Pernyataan, tersebut, disampaikan, Larijani, ...</td>\n",
              "      <td>[14, 20]</td>\n",
              "      <td>Badan Tenaga Atom Internasional ( IAEA )</td>\n",
              "    </tr>\n",
              "    <tr>\n",
              "      <th>3</th>\n",
              "      <td>[Berapa, kalikah, Lin, Dan, gagal, memainkan, ...</td>\n",
              "      <td>[Tak, seperti, yang, diharapkan, ,, partai, im...</td>\n",
              "      <td>[33, 34]</td>\n",
              "      <td>15 kali</td>\n",
              "    </tr>\n",
              "    <tr>\n",
              "      <th>4</th>\n",
              "      <td>[Apakah, nama, fakultas, tempat, Drh, Yuda, He...</td>\n",
              "      <td>[Yogyakarta, ,, Kompas, -, Drh, Yuda, Heru, Fi...</td>\n",
              "      <td>[11, 13]</td>\n",
              "      <td>Fakultas Kedokteran Hewan</td>\n",
              "    </tr>\n",
              "  </tbody>\n",
              "</table>\n",
              "</div>"
            ],
            "text/plain": [
              "                                            question  ...                                    answer\n",
              "0     [Apa, nama, latin, dari, harimau, Sumatera, ?]  ...               Panthera tigris sumatrensis\n",
              "1  [Berapa, penumpang, yang, turut, dalam, penerb...  ...                              84 penumpang\n",
              "2     [Kepala, Badan, apakah, Mohamed, ElBaradei, ?]  ...  Badan Tenaga Atom Internasional ( IAEA )\n",
              "3  [Berapa, kalikah, Lin, Dan, gagal, memainkan, ...  ...                                   15 kali\n",
              "4  [Apakah, nama, fakultas, tempat, Drh, Yuda, He...  ...                 Fakultas Kedokteran Hewan\n",
              "\n",
              "[5 rows x 4 columns]"
            ]
          },
          "metadata": {
            "tags": []
          },
          "execution_count": 32
        }
      ]
    },
    {
      "cell_type": "code",
      "metadata": {
        "id": "HqzTL_J0JsnL"
      },
      "source": [
        ""
      ],
      "execution_count": null,
      "outputs": []
    }
  ]
}